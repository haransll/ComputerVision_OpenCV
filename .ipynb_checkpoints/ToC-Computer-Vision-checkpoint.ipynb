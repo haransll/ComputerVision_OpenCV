{
 "cells": [
  {
   "cell_type": "code",
   "execution_count": 3,
   "metadata": {},
   "outputs": [
    {
     "name": "stdout",
     "output_type": "stream",
     "text": [
      "/Users/HARAN/Library/Mobile Documents/com~apple~CloudDocs/CV/lectures\r\n"
     ]
    }
   ],
   "source": [
    "! pwd"
   ]
  },
  {
   "cell_type": "markdown",
   "metadata": {},
   "source": [
    "\n",
    "## useful weblinks on image processing\n",
    "\n",
    "- [scipy website](https://docs.scipy.org/doc/scipy/reference/tutorial/ndimage.html#filters-based-on-order-statistics)\n",
    "\n",
    "- [opencv](https://docs.opencv.org/trunk/d2/d96/tutorial_py_table_of_contents_imgproc.html)\n",
    "\n",
    "\n",
    "\n"
   ]
  },
  {
   "cell_type": "code",
   "execution_count": 1,
   "metadata": {},
   "outputs": [
    {
     "data": {
      "text/html": [
       "<img src=\"toc2.png\",width=400,height=400>"
      ],
      "text/plain": [
       "<IPython.core.display.HTML object>"
      ]
     },
     "metadata": {},
     "output_type": "display_data"
    }
   ],
   "source": [
    "%%html\n",
    "<img src=\"opencv.png\",width=400,height=400>"
   ]
  },
  {
   "cell_type": "code",
   "execution_count": 34,
   "metadata": {},
   "outputs": [
    {
     "data": {
      "text/html": [
       "<img src=\"toc.png\",width=400,height=400>"
      ],
      "text/plain": [
       "<IPython.core.display.HTML object>"
      ]
     },
     "metadata": {},
     "output_type": "display_data"
    }
   ],
   "source": [
    "%%html\n",
    "<img src=\"toc.png\",width=400,height=400>"
   ]
  },
  {
   "cell_type": "markdown",
   "metadata": {},
   "source": [
    "# Computer Vision\n",
    "\n",
    "## Table of Contents\n",
    "\n",
    "### Date 12/24/17\n",
    "\n",
    "- L0: Loading,viewing and saving using openCV and matplotlib\n",
    "    - still frame\n",
    "    - video feed\n",
    "    - drawing lines,boxes and text on the image using openCV\n",
    "   \n",
    "    \n",
    "- L1: Image processing operations\n",
    "    - basic image processing (roi,)\n",
    "    - adding and substraction (arithmetic)\n",
    "    - logical operations (botwise and and or)...mask\n",
    "    - \n",
    "\n",
    "- L1: Noise filtering\n",
    "    - Mean\n",
    "    - Median (impulsive noise)\n",
    "    - \n",
    "\n",
    "- L2: Convolution and its utilities\n",
    "    - Gaussian blur\n",
    "    - (canny) Edge detection\n",
    "    - template matching\n",
    "    - Sharpening\n",
    "    - application to audio (echo cancellation)\n",
    "    - diff b/w convolution and correlation\n",
    "    \n",
    "- L3: Hough Transform to detect lines\n",
    "    - Pipeline\n",
    "    - Params\n",
    "\n",
    "- L4: Perspective Transform\n",
    "\n",
    "- L5: HOG transform\n",
    "\n",
    "\n",
    "- L6: Camera\n",
    "    - Calibration\n",
    "    - \n",
    "\n",
    "- L7: Video Processing\n",
    "    - Background substraction/frame differencing\n",
    "    - \n",
    "\n",
    "\n",
    "\n",
    "\n",
    "#### Note: Python 3.5. and OpenCV 3.1"
   ]
  },
  {
   "cell_type": "markdown",
   "metadata": {},
   "source": [
    "# Open CV Research Questions\n",
    "\n",
    "- aa\n",
    "- bb\n"
   ]
  },
  {
   "cell_type": "code",
   "execution_count": null,
   "metadata": {
    "collapsed": true
   },
   "outputs": [],
   "source": []
  }
 ],
 "metadata": {
  "kernelspec": {
   "display_name": "Python 3",
   "language": "python",
   "name": "python3"
  },
  "language_info": {
   "codemirror_mode": {
    "name": "ipython",
    "version": 3
   },
   "file_extension": ".py",
   "mimetype": "text/x-python",
   "name": "python",
   "nbconvert_exporter": "python",
   "pygments_lexer": "ipython3",
   "version": "3.5.1"
  }
 },
 "nbformat": 4,
 "nbformat_minor": 2
}
